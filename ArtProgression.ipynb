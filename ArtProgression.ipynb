{
  "nbformat": 4,
  "nbformat_minor": 0,
  "metadata": {
    "colab": {
      "provenance": [],
      "authorship_tag": "ABX9TyM4NOHQD9nTAeDmT/ccn+hh",
      "include_colab_link": true
    },
    "kernelspec": {
      "name": "python3",
      "display_name": "Python 3"
    },
    "language_info": {
      "name": "python"
    }
  },
  "cells": [
    {
      "cell_type": "markdown",
      "metadata": {
        "id": "view-in-github",
        "colab_type": "text"
      },
      "source": [
        "<a href=\"https://colab.research.google.com/github/aimtyaem/artprogression/blob/main/ArtProgression.ipynb\" target=\"_parent\"><img src=\"https://colab.research.google.com/assets/colab-badge.svg\" alt=\"Open In Colab\"/></a>"
      ]
    },
    {
      "cell_type": "code",
      "execution_count": null,
      "metadata": {
        "id": "hWlWwzu2mIgh"
      },
      "outputs": [],
      "source": [
        "\n",
        "import nltk\n",
        "from nltk.chat.util import Chat, reflections\n",
        "\n",
        "pairs = [\n",
        "    ['my name is (.*)', ['hi %1']],\n",
        "    ['(hi|hello|hey|holla)', ['hello there', 'hi there', 'hey there']],\n",
        "    ['(.*) in (.*) is fun', ['%1 in %2 is indeed fun']],\n",
        "    ['(.*) (location|city) ?', 'I am not sure where you are located.'],\n",
        "    ['(.*) created you ?', ['I was created by a team of developers at Microsoft Bing.']],\n",
        "    ['how is the weather in (.*)', ['the weather in %1 is amazing like always']],\n",
        "    ['(.*) help (.*)', ['I am here to help you with anything you need.']],\n",
        "    ['(.*) review (.*)', ['Thank you for your review! We appreciate your feedback.']],\n",
        "    ['(.*) feedback (.*)', ['Thank you for your feedback! We will take it into consideration.']],\n",
        "    ['(.*) like (.*)', ['Thank you for liking our art! We appreciate your support.']]\n",
        "]\n",
        "\n",
        "chatbot = Chat(pairs, reflections)\n",
        "chatbot.converse()"
      ]
    }
  ]
}